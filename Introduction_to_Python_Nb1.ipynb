{
  "nbformat": 4,
  "nbformat_minor": 0,
  "metadata": {
    "colab": {
      "name": "Introduction to Python Nb1.ipynb",
      "version": "0.3.2",
      "provenance": []
    },
    "kernelspec": {
      "name": "python3",
      "display_name": "Python 3"
    }
  },
  "cells": [
    {
      "cell_type": "markdown",
      "metadata": {
        "id": "WpGombpBQGMZ",
        "colab_type": "text"
      },
      "source": [
        "# Introduction to Python\n",
        "\n",
        "It's good to see that you are trying to get into the field of Data Science. There are plenty of opportunities. This notebook is linked with our second video of Data Science Series. \n",
        "\n",
        "I will be giving you an overview of Python. \n",
        "We will be covering 3 main topics:\n",
        "1. List\n",
        "2. Operator\n",
        "3. Data Types\n",
        "\n",
        "The order of topics may look unusual to you but as per our requirement, this is the right order.\n"
      ]
    },
    {
      "cell_type": "markdown",
      "metadata": {
        "id": "mKKqVLS3RXv6",
        "colab_type": "text"
      },
      "source": [
        "## What is Python?\n",
        "Python is an interpreted, high-level, general-purpose programming language. It's one of the most popular tool in Data Science community.\n",
        "\n"
      ]
    },
    {
      "cell_type": "markdown",
      "metadata": {
        "id": "l1tbh54JSCkK",
        "colab_type": "text"
      },
      "source": [
        "## Lists\n",
        "It's a kind of sequence. The elements of sequence are stored in `[ ] `. You can save data in it and access it using it's index as we do while searching for a topic in a book using it's page number. \n",
        "\n",
        "\n",
        "Let's create a list that contains 5 popular dog breeds. "
      ]
    },
    {
      "cell_type": "code",
      "metadata": {
        "id": "C22x_4-AQFXp",
        "colab_type": "code",
        "colab": {}
      },
      "source": [
        "dogs_list = [ \"Beagle\", \"Poodle\", \"German Shepherd\", \"Bulldog\", \"Labrador Retriever\" ]"
      ],
      "execution_count": 0,
      "outputs": []
    },
    {
      "cell_type": "code",
      "metadata": {
        "id": "rmorljtJqbcb",
        "colab_type": "code",
        "outputId": "19652c74-8249-4004-f4b5-82c592d2f744",
        "colab": {
          "base_uri": "https://localhost:8080/",
          "height": 34
        }
      },
      "source": [
        "dogs_list"
      ],
      "execution_count": 0,
      "outputs": [
        {
          "output_type": "execute_result",
          "data": {
            "text/plain": [
              "['Beagle', 'Poodle', 'German Shepherd', 'Bulldog', 'Labrador Retriever']"
            ]
          },
          "metadata": {
            "tags": []
          },
          "execution_count": 2
        }
      ]
    },
    {
      "cell_type": "code",
      "metadata": {
        "id": "0pYU3AGJTvg8",
        "colab_type": "code",
        "colab": {}
      },
      "source": [
        "### TODO: Create a list that stores the name of top 5 IT companies in India.\n",
        "\n"
      ],
      "execution_count": 0,
      "outputs": []
    },
    {
      "cell_type": "markdown",
      "metadata": {
        "id": "nstr7Pe9Ut37",
        "colab_type": "text"
      },
      "source": [
        "**How to access the list elements?**"
      ]
    },
    {
      "cell_type": "code",
      "metadata": {
        "id": "mkKAZxmvU8tT",
        "colab_type": "code",
        "outputId": "bb11d3ed-78b8-43fe-bfc2-5dcfb30aa13e",
        "colab": {
          "base_uri": "https://localhost:8080/",
          "height": 34
        }
      },
      "source": [
        "print(dogs_list[0])"
      ],
      "execution_count": 0,
      "outputs": [
        {
          "output_type": "stream",
          "text": [
            "Beagle\n"
          ],
          "name": "stdout"
        }
      ]
    },
    {
      "cell_type": "code",
      "metadata": {
        "id": "n8itK3JCrBGG",
        "colab_type": "code",
        "outputId": "ec8680f3-98d9-4328-c6fb-8b1c7e162bfb",
        "colab": {
          "base_uri": "https://localhost:8080/",
          "height": 34
        }
      },
      "source": [
        "dogs_list[2]"
      ],
      "execution_count": 0,
      "outputs": [
        {
          "output_type": "execute_result",
          "data": {
            "text/plain": [
              "'German Shepherd'"
            ]
          },
          "metadata": {
            "tags": []
          },
          "execution_count": 5
        }
      ]
    },
    {
      "cell_type": "code",
      "metadata": {
        "id": "v1w8jAbdrVc9",
        "colab_type": "code",
        "outputId": "5f354fcf-4544-4bb1-b2f5-fa15d78d9097",
        "colab": {
          "base_uri": "https://localhost:8080/",
          "height": 34
        }
      },
      "source": [
        "dogs_list[-3]"
      ],
      "execution_count": 0,
      "outputs": [
        {
          "output_type": "execute_result",
          "data": {
            "text/plain": [
              "'German Shepherd'"
            ]
          },
          "metadata": {
            "tags": []
          },
          "execution_count": 6
        }
      ]
    },
    {
      "cell_type": "code",
      "metadata": {
        "id": "D1XrMbuWreN3",
        "colab_type": "code",
        "outputId": "3fc0be95-90b4-4b20-f553-1b8b0845181d",
        "colab": {
          "base_uri": "https://localhost:8080/",
          "height": 34
        }
      },
      "source": [
        "dogs_list[0:3]   "
      ],
      "execution_count": 0,
      "outputs": [
        {
          "output_type": "execute_result",
          "data": {
            "text/plain": [
              "['Beagle', 'Poodle', 'German Shepherd']"
            ]
          },
          "metadata": {
            "tags": []
          },
          "execution_count": 7
        }
      ]
    },
    {
      "cell_type": "code",
      "metadata": {
        "id": "N7Kb9o1_r1KK",
        "colab_type": "code",
        "colab": {}
      },
      "source": [
        "### TODO: Return last 2 elements of dogs_list \n"
      ],
      "execution_count": 0,
      "outputs": []
    },
    {
      "cell_type": "markdown",
      "metadata": {
        "id": "EyiNeFPTU90u",
        "colab_type": "text"
      },
      "source": [
        "**Finding the size of list i.e, number of elements in list**"
      ]
    },
    {
      "cell_type": "code",
      "metadata": {
        "id": "oSs9WC95VNT0",
        "colab_type": "code",
        "outputId": "82efa622-eada-4f27-bd23-f0bb9e115e3c",
        "colab": {
          "base_uri": "https://localhost:8080/",
          "height": 34
        }
      },
      "source": [
        "len(dogs_list)"
      ],
      "execution_count": 0,
      "outputs": [
        {
          "output_type": "execute_result",
          "data": {
            "text/plain": [
              "5"
            ]
          },
          "metadata": {
            "tags": []
          },
          "execution_count": 8
        }
      ]
    },
    {
      "cell_type": "markdown",
      "metadata": {
        "id": "njM4yBqYVOUh",
        "colab_type": "text"
      },
      "source": [
        "**Add elements to the list**"
      ]
    },
    {
      "cell_type": "code",
      "metadata": {
        "id": "YNJVjF65VW_J",
        "colab_type": "code",
        "colab": {}
      },
      "source": [
        "new_data = 'Cocker Spaniel'\n",
        "\n",
        "dogs_list.append(new_data)"
      ],
      "execution_count": 0,
      "outputs": []
    },
    {
      "cell_type": "code",
      "metadata": {
        "id": "sERh-6oAsZBj",
        "colab_type": "code",
        "outputId": "2a689535-43bd-4916-e59c-05849936e987",
        "colab": {
          "base_uri": "https://localhost:8080/",
          "height": 118
        }
      },
      "source": [
        "dogs_list"
      ],
      "execution_count": 0,
      "outputs": [
        {
          "output_type": "execute_result",
          "data": {
            "text/plain": [
              "['Beagle',\n",
              " 'Poodle',\n",
              " 'German Shepherd',\n",
              " 'Bulldog',\n",
              " 'Labrador Retriever',\n",
              " 'Cocker Spaniel']"
            ]
          },
          "metadata": {
            "tags": []
          },
          "execution_count": 10
        }
      ]
    },
    {
      "cell_type": "markdown",
      "metadata": {
        "id": "MvE38R9cVX6W",
        "colab_type": "text"
      },
      "source": [
        "## Operators\n",
        "Operators are used to perform operations on the data. It helps to do the manipulations.\n",
        "\n",
        "1. Arithmetic Operators\n",
        "2. Comparison  Operators\n",
        "3. Assignment Operators\n",
        "4. Logical Operators\n",
        "5. Bitwise Operators            `      ##Not of much use as per our curriculum`\n",
        "6. Membership Operators                `          ##will cover in the section of loops`\n",
        "7. Identity Operators"
      ]
    },
    {
      "cell_type": "code",
      "metadata": {
        "id": "pWaPSNttV3Ly",
        "colab_type": "code",
        "outputId": "29b64789-0da8-4544-f81a-17d92934c616",
        "colab": {
          "base_uri": "https://localhost:8080/",
          "height": 84
        }
      },
      "source": [
        "# + operator\n",
        "\n",
        "print( 5 + 7 )\n",
        "print( 5 - 7 )\n",
        "print( 5 * 7 )\n",
        "print( 5 / 7 )  "
      ],
      "execution_count": 0,
      "outputs": [
        {
          "output_type": "stream",
          "text": [
            "12\n",
            "-2\n",
            "35\n",
            "0.7142857142857143\n"
          ],
          "name": "stdout"
        }
      ]
    },
    {
      "cell_type": "code",
      "metadata": {
        "id": "9XUG-iyjs8aW",
        "colab_type": "code",
        "outputId": "0d212293-3875-46f0-af46-705fad0f894f",
        "colab": {
          "base_uri": "https://localhost:8080/",
          "height": 34
        }
      },
      "source": [
        "print(20 // 3)"
      ],
      "execution_count": 0,
      "outputs": [
        {
          "output_type": "stream",
          "text": [
            "6\n"
          ],
          "name": "stdout"
        }
      ]
    },
    {
      "cell_type": "code",
      "metadata": {
        "id": "ZK6XKBtftE7L",
        "colab_type": "code",
        "outputId": "2178bade-8391-4cb7-ebbb-3434eba21f4b",
        "colab": {
          "base_uri": "https://localhost:8080/",
          "height": 34
        }
      },
      "source": [
        "print( 10000 % 3)"
      ],
      "execution_count": 0,
      "outputs": [
        {
          "output_type": "stream",
          "text": [
            "1\n"
          ],
          "name": "stdout"
        }
      ]
    },
    {
      "cell_type": "markdown",
      "metadata": {
        "id": "40EGSvQgWWYj",
        "colab_type": "text"
      },
      "source": [
        "##  Types of Variables\n",
        "There are quite a number of variables types in python. We will be covering mainly 2: numbers and string. List is also a type of variable that we have already discussed. "
      ]
    },
    {
      "cell_type": "code",
      "metadata": {
        "id": "SxeuB1uTWxV1",
        "colab_type": "code",
        "outputId": "4632944b-6444-4f72-cc6e-1f04694e2c4c",
        "colab": {
          "base_uri": "https://localhost:8080/",
          "height": 34
        }
      },
      "source": [
        "a = \"2\"\n",
        "type(a)"
      ],
      "execution_count": 0,
      "outputs": [
        {
          "output_type": "execute_result",
          "data": {
            "text/plain": [
              "str"
            ]
          },
          "metadata": {
            "tags": []
          },
          "execution_count": 17
        }
      ]
    },
    {
      "cell_type": "code",
      "metadata": {
        "id": "S91lytc2thgN",
        "colab_type": "code",
        "outputId": "18e5d986-de19-4536-9c90-a14600e9eb6f",
        "colab": {
          "base_uri": "https://localhost:8080/",
          "height": 34
        }
      },
      "source": [
        "b = 0.10101\n",
        "type(b)"
      ],
      "execution_count": 0,
      "outputs": [
        {
          "output_type": "execute_result",
          "data": {
            "text/plain": [
              "float"
            ]
          },
          "metadata": {
            "tags": []
          },
          "execution_count": 18
        }
      ]
    },
    {
      "cell_type": "code",
      "metadata": {
        "id": "bCjUvjEYtm4N",
        "colab_type": "code",
        "outputId": "3b3f92c0-4d02-402f-bd96-31bcb92d218c",
        "colab": {
          "base_uri": "https://localhost:8080/",
          "height": 50
        }
      },
      "source": [
        "print(new_data)\n",
        "type(new_data)"
      ],
      "execution_count": 0,
      "outputs": [
        {
          "output_type": "stream",
          "text": [
            "Cocker Spaniel\n"
          ],
          "name": "stdout"
        },
        {
          "output_type": "execute_result",
          "data": {
            "text/plain": [
              "str"
            ]
          },
          "metadata": {
            "tags": []
          },
          "execution_count": 19
        }
      ]
    },
    {
      "cell_type": "markdown",
      "metadata": {
        "id": "RfRkWdgGWy1M",
        "colab_type": "text"
      },
      "source": [
        "## Type Casting\n",
        "\n",
        "This is one of the most important topic that is much needed while working with data. You may get data in string type but for performing computations on it, you need to convert it to integer. "
      ]
    },
    {
      "cell_type": "code",
      "metadata": {
        "id": "E0JOzbEvXGvJ",
        "colab_type": "code",
        "colab": {}
      },
      "source": [
        "student_record = ['21', 'Shyam', '15', 'X']"
      ],
      "execution_count": 0,
      "outputs": []
    },
    {
      "cell_type": "code",
      "metadata": {
        "id": "aiW56YMluDIf",
        "colab_type": "code",
        "outputId": "ea46c708-92f8-4ef3-a8c0-5cc8394aa149",
        "colab": {
          "base_uri": "https://localhost:8080/",
          "height": 34
        }
      },
      "source": [
        "student_record"
      ],
      "execution_count": 0,
      "outputs": [
        {
          "output_type": "execute_result",
          "data": {
            "text/plain": [
              "['21', 'Shyam', '15', 'X']"
            ]
          },
          "metadata": {
            "tags": []
          },
          "execution_count": 22
        }
      ]
    },
    {
      "cell_type": "code",
      "metadata": {
        "id": "wd1xMTGSuE29",
        "colab_type": "code",
        "outputId": "ce5f37a4-b755-4139-f3f1-9d3c56fb045b",
        "colab": {
          "base_uri": "https://localhost:8080/",
          "height": 34
        }
      },
      "source": [
        "type(student_record[0])"
      ],
      "execution_count": 0,
      "outputs": [
        {
          "output_type": "execute_result",
          "data": {
            "text/plain": [
              "str"
            ]
          },
          "metadata": {
            "tags": []
          },
          "execution_count": 23
        }
      ]
    },
    {
      "cell_type": "code",
      "metadata": {
        "id": "KymfOlLouKds",
        "colab_type": "code",
        "outputId": "75c9044e-3f6a-44ee-b7e9-237e355f94c8",
        "colab": {
          "base_uri": "https://localhost:8080/",
          "height": 34
        }
      },
      "source": [
        "int(student_record[0])"
      ],
      "execution_count": 0,
      "outputs": [
        {
          "output_type": "execute_result",
          "data": {
            "text/plain": [
              "21"
            ]
          },
          "metadata": {
            "tags": []
          },
          "execution_count": 24
        }
      ]
    },
    {
      "cell_type": "code",
      "metadata": {
        "id": "S4BsDn8W9AgO",
        "colab_type": "code",
        "outputId": "89acfe19-ae37-499f-ac3f-f614b9bc5d7f",
        "colab": {
          "base_uri": "https://localhost:8080/",
          "height": 34
        }
      },
      "source": [
        "type(int(student_record[0]))"
      ],
      "execution_count": 0,
      "outputs": [
        {
          "output_type": "execute_result",
          "data": {
            "text/plain": [
              "int"
            ]
          },
          "metadata": {
            "tags": []
          },
          "execution_count": 25
        }
      ]
    },
    {
      "cell_type": "code",
      "metadata": {
        "id": "MZHM06shuW9L",
        "colab_type": "code",
        "colab": {}
      },
      "source": [
        "student_record[0] = int(student_record[0])"
      ],
      "execution_count": 0,
      "outputs": []
    },
    {
      "cell_type": "code",
      "metadata": {
        "id": "2JldLgfQub0I",
        "colab_type": "code",
        "outputId": "dffd0e94-037e-4808-c8c2-b0c565d6f6b8",
        "colab": {
          "base_uri": "https://localhost:8080/",
          "height": 34
        }
      },
      "source": [
        "student_record"
      ],
      "execution_count": 0,
      "outputs": [
        {
          "output_type": "execute_result",
          "data": {
            "text/plain": [
              "[21, 'Shyam', '15', 'X']"
            ]
          },
          "metadata": {
            "tags": []
          },
          "execution_count": 27
        }
      ]
    },
    {
      "cell_type": "code",
      "metadata": {
        "id": "CKRxIqFnuecF",
        "colab_type": "code",
        "colab": {}
      },
      "source": [
        ""
      ],
      "execution_count": 0,
      "outputs": []
    }
  ]
}